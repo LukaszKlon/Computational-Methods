{
 "cells": [
  {
   "cell_type": "markdown",
   "metadata": {},
   "source": [
    "# Metoda bisekcji"
   ]
  },
  {
   "cell_type": "code",
   "execution_count": 332,
   "metadata": {},
   "outputs": [],
   "source": [
    "import math\n",
    "from mpmath import mp,mpf\n",
    "import numpy as np"
   ]
  },
  {
   "cell_type": "code",
   "execution_count": 333,
   "metadata": {},
   "outputs": [
    {
     "data": {
      "text/plain": [
       "mpf('0.16666666666666666666666666666666666666666666666666656')"
      ]
     },
     "execution_count": 333,
     "metadata": {},
     "output_type": "execute_result"
    }
   ],
   "source": [
    "mp.dps = 50\n",
    "mp.mpf(1)/mp.mpf(6)"
   ]
  },
  {
   "cell_type": "code",
   "execution_count": 334,
   "metadata": {},
   "outputs": [],
   "source": [
    "def sgn(val):\n",
    "    return math.copysign(1,val)"
   ]
  },
  {
   "cell_type": "markdown",
   "metadata": {},
   "source": [
    "### Funkcje i ich pochodne"
   ]
  },
  {
   "cell_type": "code",
   "execution_count": 335,
   "metadata": {},
   "outputs": [],
   "source": [
    "F1 = lambda x: mp.cos(x)*mp.cosh(x) - 1\n",
    "derivativeF1 = lambda x: mp.cos(x)*mp.sinh(x) - mp.sin(x)*mp.cosh(x)\n",
    "F2 = lambda x: 1/x - mp.tan(x)\n",
    "derivativeF2 = lambda x: -1/x**2 - 1/pow(mp.cos(x),2)\n",
    "F3 = lambda x: 2**(-x) + mp.e**(x) + 2 * mp.cos(x) - 6\n",
    "derivativeF3 = lambda x: -mp.log(2) + mp.e**(x) - 2* mp.sin(x) "
   ]
  },
  {
   "cell_type": "markdown",
   "metadata": {},
   "source": [
    "### Metoda Bisekcji"
   ]
  },
  {
   "cell_type": "code",
   "execution_count": 336,
   "metadata": {},
   "outputs": [],
   "source": [
    "def bisection_method(f,left,right,delta=10**(-10),eps=10**(-10)):\n",
    "    l,r = mpf(left),mpf(right)\n",
    "    l += 10**(-33)\n",
    "    r -= 10**(-33)\n",
    "    val_l,val_r = f(l),f(r)\n",
    "    i = 0\n",
    "    while abs(l -r) > delta:\n",
    "        s = mpf(l)+mpf((r-l)/2)\n",
    "        # print(s)\n",
    "        val = mpf(f(s))\n",
    "        if abs(val) < eps:\n",
    "            return s, i\n",
    "        elif sgn(val_l)*sgn(val) < 0:\n",
    "            r = s\n",
    "        else:\n",
    "            l = s\n",
    "        i += 1\n",
    "        # print(i)\n",
    "    # print(i)\n",
    "    return s,i"
   ]
  },
  {
   "cell_type": "markdown",
   "metadata": {},
   "source": [
    "### Metoda Newtona (styczych)"
   ]
  },
  {
   "cell_type": "code",
   "execution_count": 337,
   "metadata": {},
   "outputs": [],
   "source": [
    "def newton_method(f,df,left,right,delta=10**(-10),eps=10**(-10)):\n",
    "    l,r = left,right\n",
    "    # l += 10**(-33)\n",
    "    # r -= 10**(-33)\n",
    "\n",
    "    x0 = l + (r-l)/2\n",
    "    \n",
    "    i = 0\n",
    "    df_val = df(x0)\n",
    "    val = f(x0)\n",
    "    \n",
    "    x1 = x0 - val/df_val\n",
    "    while abs(x1-x0) > delta and abs(f(x1)) > eps:\n",
    "        x0 = x1\n",
    "        df_val = df(x0)\n",
    "        val = f(x0)\n",
    "        x1 = x0 - val/df_val\n",
    "\n",
    "        i += 1\n",
    "\n",
    "\n",
    "    return x1, i\n"
   ]
  },
  {
   "cell_type": "markdown",
   "metadata": {},
   "source": [
    "### Metoda siecznych"
   ]
  },
  {
   "cell_type": "code",
   "execution_count": 338,
   "metadata": {},
   "outputs": [],
   "source": [
    "def secant_method(f,left,right,delta=10**(-10),eps=10**(-10)):\n",
    "    l,r = left,right\n",
    "    l += 10**(-33)\n",
    "    r -= 10**(-33)\n",
    "    START = 10**(-8)\n",
    "    x0 = l + (r-l)/2\n",
    "    x1 = x0 - START\n",
    "    i = 0\n",
    "    \n",
    "    while abs(x1-x0) > delta and abs(f(x1)) > eps:\n",
    "        xn = x1 - f(x1)* (x1 - x0)/ (f(x1) - f(x0))\n",
    "        x0 = x1\n",
    "        x1 = xn\n",
    "\n",
    "        i += 1\n",
    "\n",
    "    return x1, i\n",
    "\n",
    "    "
   ]
  },
  {
   "cell_type": "markdown",
   "metadata": {},
   "source": [
    "### F1"
   ]
  },
  {
   "cell_type": "code",
   "execution_count": 339,
   "metadata": {},
   "outputs": [
    {
     "data": {
      "text/plain": [
       "(mpf('4.7300407448627040260240481008338848812495760722180371'), 111)"
      ]
     },
     "execution_count": 339,
     "metadata": {},
     "output_type": "execute_result"
    }
   ],
   "source": [
    "bisection_method(F1,mp.pi*3 / 2,2*mp.pi,10**(-33),10**(-33))"
   ]
  },
  {
   "cell_type": "code",
   "execution_count": 340,
   "metadata": {},
   "outputs": [
    {
     "data": {
      "text/plain": [
       "(mpf('4.7300407448627040260240481008338848198983461611947582'), 6)"
      ]
     },
     "execution_count": 340,
     "metadata": {},
     "output_type": "execute_result"
    }
   ],
   "source": [
    "newton_method(F1,derivativeF1,mp.pi*3 / 2,2*mp.pi,10**(-33),10**(-33))"
   ]
  },
  {
   "cell_type": "code",
   "execution_count": 341,
   "metadata": {},
   "outputs": [
    {
     "data": {
      "text/plain": [
       "(mpf('4.7300407448627040260240481008338848198983418007419906'), 10)"
      ]
     },
     "execution_count": 341,
     "metadata": {},
     "output_type": "execute_result"
    }
   ],
   "source": [
    "secant_method(F1,mp.pi*3 / 2,2*mp.pi,10**(-33),10**(-33))"
   ]
  },
  {
   "cell_type": "markdown",
   "metadata": {},
   "source": [
    "### F2"
   ]
  },
  {
   "cell_type": "code",
   "execution_count": 342,
   "metadata": {},
   "outputs": [
    {
     "data": {
      "text/plain": [
       "(mpf('0.86033358901937976248389342413766258218222711283426305'), 110)"
      ]
     },
     "execution_count": 342,
     "metadata": {},
     "output_type": "execute_result"
    }
   ],
   "source": [
    "bisection_method(F2,mpf(0),mp.pi/2,10**(-33),10**(-33))"
   ]
  },
  {
   "cell_type": "code",
   "execution_count": 343,
   "metadata": {},
   "outputs": [
    {
     "data": {
      "text/plain": [
       "(mpf('0.86033358901937976248389342413766233341188436323765412'), 4)"
      ]
     },
     "execution_count": 343,
     "metadata": {},
     "output_type": "execute_result"
    }
   ],
   "source": [
    "newton_method(F2,derivativeF2,mpf(0),mp.pi/2,10**(-33),10**(-33))"
   ]
  },
  {
   "cell_type": "code",
   "execution_count": 344,
   "metadata": {},
   "outputs": [
    {
     "data": {
      "text/plain": [
       "(mpf('0.86033358901937976248389342413766233341047808852213946'), 6)"
      ]
     },
     "execution_count": 344,
     "metadata": {},
     "output_type": "execute_result"
    }
   ],
   "source": [
    "secant_method(F2,mpf(0),mp.pi/2,10**(-33),10**(-33))"
   ]
  },
  {
   "cell_type": "markdown",
   "metadata": {},
   "source": [
    "### F3"
   ]
  },
  {
   "cell_type": "code",
   "execution_count": 345,
   "metadata": {},
   "outputs": [
    {
     "data": {
      "text/plain": [
       "(mpf('1.8293836019338488171362129468141511740699667471977999'), 111)"
      ]
     },
     "execution_count": 345,
     "metadata": {},
     "output_type": "execute_result"
    }
   ],
   "source": [
    "bisection_method(F3,1,3,10**(-33),10**(-33))"
   ]
  },
  {
   "cell_type": "code",
   "execution_count": 346,
   "metadata": {},
   "outputs": [
    {
     "data": {
      "text/plain": [
       "(mpf('1.8293836019338488171362129468141507115514634918462512'), 37)"
      ]
     },
     "execution_count": 346,
     "metadata": {},
     "output_type": "execute_result"
    }
   ],
   "source": [
    "newton_method(F3,derivativeF3,mpf(1),mpf(3),10**(-33),10**(-33))"
   ]
  },
  {
   "cell_type": "code",
   "execution_count": 347,
   "metadata": {},
   "outputs": [
    {
     "data": {
      "text/plain": [
       "(mpf('1.8293836019338488171362129468141507912940870105916986'), 8)"
      ]
     },
     "execution_count": 347,
     "metadata": {},
     "output_type": "execute_result"
    }
   ],
   "source": [
    "secant_method(F3,mpf(1),mpf(3),10**(-33),10**(-33))"
   ]
  }
 ],
 "metadata": {
  "kernelspec": {
   "display_name": "Python 3",
   "language": "python",
   "name": "python3"
  },
  "language_info": {
   "codemirror_mode": {
    "name": "ipython",
    "version": 3
   },
   "file_extension": ".py",
   "mimetype": "text/x-python",
   "name": "python",
   "nbconvert_exporter": "python",
   "pygments_lexer": "ipython3",
   "version": "3.10.7"
  }
 },
 "nbformat": 4,
 "nbformat_minor": 2
}
