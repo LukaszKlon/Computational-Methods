{
 "cells": [
  {
   "cell_type": "markdown",
   "metadata": {},
   "source": [
    "## Algorytm Jordana-Gaussa "
   ]
  },
  {
   "cell_type": "code",
   "execution_count": 74,
   "metadata": {},
   "outputs": [],
   "source": [
    "import numpy as np\n",
    "import scipy.linalg as sci\n",
    "from copy import deepcopy\n",
    "import time"
   ]
  },
  {
   "cell_type": "markdown",
   "metadata": {},
   "source": [
    "#### Funkcja Jordana-Gaussa z partial pivotingiem"
   ]
  },
  {
   "cell_type": "code",
   "execution_count": 7,
   "metadata": {},
   "outputs": [],
   "source": [
    "def Jordan_Gauss(Matrix):\n",
    "    N = Matrix.shape[0]\n",
    "    K = Matrix.shape[1]\n",
    "    RowNumber = [i for i in range(N)]\n",
    "    for i in range(N):\n",
    "        curr_row = i\n",
    "        tmp = Matrix[RowNumber[i],i]\n",
    "        for j in range(i+1,N):\n",
    "            if abs(Matrix[RowNumber[j],i]) > tmp:\n",
    "                tmp = Matrix[RowNumber[j],i]\n",
    "                curr_row = j\n",
    "\n",
    "        if tmp == 0:\n",
    "            return None\n",
    "\n",
    "        RowNumber[curr_row], RowNumber[i] = RowNumber[i],RowNumber[curr_row]\n",
    "        \n",
    "        value = Matrix[RowNumber[i],i]\n",
    "        values = Matrix[RowNumber[i],]\n",
    "\n",
    "        for j in range(i+1,N):\n",
    "            scalar = Matrix[RowNumber[j],i]/value\n",
    "            Matrix[RowNumber[j],] = Matrix[RowNumber[j],] - scalar*values[0,]\n",
    "            \n",
    "        Matrix[RowNumber[i]] = Matrix[RowNumber[i]]/value\n",
    "\n",
    "    for i in range(N-1,0,-1):\n",
    "        values = Matrix[RowNumber[i],]\n",
    "        for j in range(i-1,-1,-1):\n",
    "            scalar = Matrix[RowNumber[j],i]\n",
    "            Matrix[RowNumber[j],] = Matrix[RowNumber[j],] - scalar*values[0,]\n",
    "\n",
    "    res = np.asarray(Matrix[:,K-1]).astype('float64')\n",
    "    result = np.zeros(K-1)\n",
    "    for i in range(len(RowNumber)):\n",
    "        result[i] = res[RowNumber[i]]\n",
    "\n",
    "    return result\n",
    "        "
   ]
  },
  {
   "cell_type": "markdown",
   "metadata": {},
   "source": [
    "#### Funkcja używająca funkcji z biblioteki numpy do obliczenia"
   ]
  },
  {
   "cell_type": "code",
   "execution_count": 9,
   "metadata": {},
   "outputs": [],
   "source": [
    "def use_linalg_solve(Matrix):\n",
    "    A = Matrix[:,0:Matrix.shape[1]-1]\n",
    "    B = Matrix[:,Matrix.shape[1]-1]\n",
    "    return np.array(np.linalg.solve(A,B))"
   ]
  },
  {
   "cell_type": "code",
   "execution_count": 81,
   "metadata": {},
   "outputs": [],
   "source": [
    "def check_function():\n",
    "    size = [5,10,30,50,100,200,300,500,1000]\n",
    "    for N in size:\n",
    "        Matrix = np.random.random((N,N+1))\n",
    "        np_time_start = time.time()\n",
    "        res_np = use_linalg_solve(Matrix).squeeze()\n",
    "        np_time_stop = time.time()\n",
    "        JG_time_start = time.time()\n",
    "        res = Jordan_Gauss(np.matrix(Matrix))\n",
    "        JG_time_stop = time.time()\n",
    "        times = (JG_time_stop-JG_time_start,np_time_stop-np_time_start)\n",
    "        text = \"Jordan-Gauss %.2f Numpy %.2f\" % times\n",
    "     \n",
    "        if np.all(abs(res_np-res) < 10**(-9)):\n",
    "            print(\"Test size \"+ str(N) + \" equations passed \" + text)\n",
    "        else:\n",
    "            print(\"Test size \"+ str(N) +  \" equations failed \" + text)"
   ]
  },
  {
   "cell_type": "markdown",
   "metadata": {},
   "source": [
    "#### Wyniki testów oraz czasy wykonania funckji"
   ]
  },
  {
   "cell_type": "code",
   "execution_count": 82,
   "metadata": {},
   "outputs": [
    {
     "name": "stdout",
     "output_type": "stream",
     "text": [
      "Test size 5 equations passed Jordan-Gauss 0.00 Numpy 0.00\n",
      "Test size 10 equations passed Jordan-Gauss 0.00 Numpy 0.00\n",
      "Test size 30 equations passed Jordan-Gauss 0.04 Numpy 0.05\n",
      "Test size 50 equations passed Jordan-Gauss 0.05 Numpy 0.08\n",
      "Test size 100 equations passed Jordan-Gauss 0.23 Numpy 0.04\n",
      "Test size 200 equations passed Jordan-Gauss 0.98 Numpy 0.04\n",
      "Test size 300 equations passed Jordan-Gauss 2.14 Numpy 0.22\n",
      "Test size 500 equations passed Jordan-Gauss 6.13 Numpy 0.40\n",
      "Test size 1000 equations passed Jordan-Gauss 26.41 Numpy 0.15\n"
     ]
    }
   ],
   "source": [
    "check_function()"
   ]
  }
 ],
 "metadata": {
  "kernelspec": {
   "display_name": "Python 3",
   "language": "python",
   "name": "python3"
  },
  "language_info": {
   "codemirror_mode": {
    "name": "ipython",
    "version": 3
   },
   "file_extension": ".py",
   "mimetype": "text/x-python",
   "name": "python",
   "nbconvert_exporter": "python",
   "pygments_lexer": "ipython3",
   "version": "3.10.7"
  }
 },
 "nbformat": 4,
 "nbformat_minor": 2
}
