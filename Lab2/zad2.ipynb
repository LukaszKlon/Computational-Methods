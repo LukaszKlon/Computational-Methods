{
 "cells": [
  {
   "cell_type": "markdown",
   "metadata": {},
   "source": [
    "## Faktoryzacja LU"
   ]
  },
  {
   "cell_type": "code",
   "execution_count": 84,
   "metadata": {},
   "outputs": [],
   "source": [
    "import numpy as np\n",
    "import scipy.linalg as sci\n",
    "from copy import deepcopy\n",
    "import time"
   ]
  },
  {
   "cell_type": "markdown",
   "metadata": {},
   "source": [
    "#### Funkcja dokonuje faktoryzacji LU tworząc dwie tablice L i U"
   ]
  },
  {
   "cell_type": "code",
   "execution_count": 12,
   "metadata": {},
   "outputs": [],
   "source": [
    "def LU_factorize(Matrix):\n",
    "    N = Matrix.shape[0]\n",
    "    L = np.eye(N)\n",
    "    U = np.zeros(Matrix.shape)\n",
    "    for i in range(N):\n",
    "        for j in range(i,N):\n",
    "            sum = 0\n",
    "            for k in range(i):\n",
    "                sum += L[i,k]*U[k,j]\n",
    "            U[i,j] = Matrix[i,j] - sum\n",
    "\n",
    "        for j in range(i+1,N):\n",
    "            sum = 0\n",
    "            for k in range(i):\n",
    "                sum += L[j,k]*U[k,i]\n",
    "            L[j,i] = (Matrix[j,i] - sum)/U[i,i]\n",
    "\n",
    "    return L,U"
   ]
  },
  {
   "cell_type": "markdown",
   "metadata": {},
   "source": [
    "#### Funkcja dokonująca faktoryzacji LU in-situ"
   ]
  },
  {
   "cell_type": "code",
   "execution_count": 29,
   "metadata": {},
   "outputs": [],
   "source": [
    "def LU_in_situ(Matrix):\n",
    "    N = Matrix.shape[0]\n",
    "    K = Matrix.shape[1]\n",
    "    \n",
    "    for i in range(N):\n",
    "        curr_row = i\n",
    "        value = Matrix[i,i]\n",
    "        values = Matrix[i,]\n",
    "        tmp = Matrix[i,i]\n",
    "\n",
    "        if tmp == 0:\n",
    "            return None\n",
    "\n",
    "        for j in range(i+1,N):\n",
    "            scalar = Matrix[j,i]/value\n",
    "            \n",
    "            for k in range(i,N):\n",
    "                Matrix[j,k] = Matrix[j,k] - scalar*values[k]   \n",
    "\n",
    "            Matrix[j,i] = scalar\n",
    "            \n",
    "    return Matrix\n",
    "\n",
    "        "
   ]
  },
  {
   "cell_type": "markdown",
   "metadata": {},
   "source": [
    "#### Funkcja sprawdza poprawność rozwiązania dla macierzy różnej wielkości"
   ]
  },
  {
   "cell_type": "code",
   "execution_count": 95,
   "metadata": {},
   "outputs": [],
   "source": [
    "def check_function():\n",
    "    eps = 10**(-10)\n",
    "    size = [5,10,30,50,100,200,300]\n",
    "    for N in size:\n",
    "        Matrix = np.random.random((N,N))\n",
    "        M = deepcopy(Matrix)\n",
    "        start_time = time.time()\n",
    "        LU_in_situ(M)\n",
    "        stop_time = time.time()\n",
    "        text = \"time:%.2f\" % (stop_time-start_time)\n",
    "        L = np.eye(N)\n",
    "        U = np.zeros((N,N))\n",
    "        for i in range(N):\n",
    "            for j in range(i):\n",
    "                L[i,j] = M[i,j]\n",
    "            for j in range(i,N):\n",
    "                U[i,j] = M[i,j]\n",
    "        \n",
    "        x = Matrix - L @ U\n",
    "\n",
    "        start_time = time.time()\n",
    "        L2,U2 = LU_factorize(Matrix)\n",
    "        stop_time = time.time()\n",
    "        text2 = \"time:%.2f\" % (stop_time-start_time)\n",
    "        x2 = Matrix - L @ U\n",
    "\n",
    "        if np.all(abs(x) < eps):\n",
    "            print(\"In-situ test size \"+ str(N) + \"x\" + str(N) +  \"  passed \" + text)\n",
    "        else:\n",
    "            print(\"In-situ test size \"+ str(N) + \"x\" + str(N) +  \"  failed \" + text)\n",
    "\n",
    "        if np.all(abs(x2) < eps):\n",
    "            print(\"Test size \"+ str(N) + \"x\" + str(N) +  \"  passed \" + text2)\n",
    "        else:\n",
    "            print(\"Test size \"+ str(N) + \"x\" + str(N) +  \"  failed \" + text2)"
   ]
  },
  {
   "cell_type": "code",
   "execution_count": 96,
   "metadata": {},
   "outputs": [
    {
     "name": "stdout",
     "output_type": "stream",
     "text": [
      "In-situ test size 5x5  passed time:0.00\n",
      "Test size 5x5  passed time:0.00\n",
      "In-situ test size 10x10  passed time:0.00\n",
      "Test size 10x10  passed time:0.00\n",
      "In-situ test size 30x30  passed time:0.02\n",
      "Test size 30x30  passed time:0.01\n",
      "In-situ test size 50x50  passed time:0.08\n",
      "Test size 50x50  passed time:0.06\n",
      "In-situ test size 100x100  passed time:0.52\n",
      "Test size 100x100  passed time:0.48\n",
      "In-situ test size 200x200  passed time:4.17\n",
      "Test size 200x200  passed time:3.73\n",
      "In-situ test size 300x300  passed time:14.46\n",
      "Test size 300x300  passed time:12.50\n"
     ]
    }
   ],
   "source": [
    "check_function()"
   ]
  }
 ],
 "metadata": {
  "kernelspec": {
   "display_name": "Python 3",
   "language": "python",
   "name": "python3"
  },
  "language_info": {
   "codemirror_mode": {
    "name": "ipython",
    "version": 3
   },
   "file_extension": ".py",
   "mimetype": "text/x-python",
   "name": "python",
   "nbconvert_exporter": "python",
   "pygments_lexer": "ipython3",
   "version": "3.10.7"
  }
 },
 "nbformat": 4,
 "nbformat_minor": 2
}
